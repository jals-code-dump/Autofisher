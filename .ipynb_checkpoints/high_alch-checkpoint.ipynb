{
 "cells": [
  {
   "cell_type": "code",
   "execution_count": 4,
   "metadata": {},
   "outputs": [],
   "source": [
    "import random\n",
    "import time\n",
    "import pynput\n",
    "from pynput.mouse import Button, Controller"
   ]
  },
  {
   "cell_type": "code",
   "execution_count": 5,
   "metadata": {},
   "outputs": [
    {
     "name": "stdout",
     "output_type": "stream",
     "text": [
      "The current pointer position is (1413, 277)\r"
     ]
    },
    {
     "ename": "KeyboardInterrupt",
     "evalue": "",
     "output_type": "error",
     "traceback": [
      "\u001b[1;31m---------------------------------------------------------------------------\u001b[0m",
      "\u001b[1;31mKeyboardInterrupt\u001b[0m                         Traceback (most recent call last)",
      "\u001b[1;32m<ipython-input-5-9430400c0e28>\u001b[0m in \u001b[0;36m<module>\u001b[1;34m\u001b[0m\n\u001b[0;32m      1\u001b[0m \u001b[0mmouse\u001b[0m \u001b[1;33m=\u001b[0m \u001b[0mController\u001b[0m\u001b[1;33m(\u001b[0m\u001b[1;33m)\u001b[0m\u001b[1;33m\u001b[0m\u001b[1;33m\u001b[0m\u001b[0m\n\u001b[0;32m      2\u001b[0m \u001b[1;32mwhile\u001b[0m \u001b[1;32mTrue\u001b[0m \u001b[1;33m==\u001b[0m \u001b[1;32mTrue\u001b[0m\u001b[1;33m:\u001b[0m\u001b[1;33m\u001b[0m\u001b[1;33m\u001b[0m\u001b[0m\n\u001b[1;32m----> 3\u001b[1;33m     \u001b[0mtime\u001b[0m\u001b[1;33m.\u001b[0m\u001b[0msleep\u001b[0m\u001b[1;33m(\u001b[0m\u001b[1;36m0.2\u001b[0m\u001b[1;33m)\u001b[0m\u001b[1;33m\u001b[0m\u001b[1;33m\u001b[0m\u001b[0m\n\u001b[0m\u001b[0;32m      4\u001b[0m     \u001b[0mprint\u001b[0m\u001b[1;33m(\u001b[0m\u001b[1;34m'The current pointer position is {0}'\u001b[0m\u001b[1;33m.\u001b[0m\u001b[0mformat\u001b[0m\u001b[1;33m(\u001b[0m\u001b[0mmouse\u001b[0m\u001b[1;33m.\u001b[0m\u001b[0mposition\u001b[0m\u001b[1;33m)\u001b[0m\u001b[1;33m,\u001b[0m \u001b[0mend\u001b[0m\u001b[1;33m=\u001b[0m\u001b[1;34m\"\\r\"\u001b[0m\u001b[1;33m)\u001b[0m\u001b[1;33m\u001b[0m\u001b[1;33m\u001b[0m\u001b[0m\n",
      "\u001b[1;31mKeyboardInterrupt\u001b[0m: "
     ]
    }
   ],
   "source": [
    "mouse = Controller()\n",
    "while True == True:\n",
    "    time.sleep(0.2)\n",
    "    print('The current pointer position is {0}'.format(mouse.position), end=\"\\r\")"
   ]
  },
  {
   "cell_type": "code",
   "execution_count": null,
   "metadata": {},
   "outputs": [],
   "source": [
    "from pynput.mouse import Button, Controller\n",
    "mouse = Controller()\n",
    "\n",
    "runes = 1989\n",
    "i = 0\n",
    "pos_ha_x = 1213\n",
    "pos_ha_y = 401\n",
    "pos_item_x = 1076\n",
    "pos_item_y = 395\n",
    "\n",
    "time.sleep(5)\n",
    "\n",
    "#start loop based on amount of nature runes\n",
    "while i < runes:\n",
    "    #move mouse to HA spell location + random\n",
    "    random_x = random.uniform(-1.1, 1.1)\n",
    "    random_y = random.uniform(-1.1, 1.1)\n",
    "    mouse.position = (pos_ha_x + random.uniform(-1.1, 1.1), pos_ha_y + random.uniform(-1.1, 1.1))\n",
    "    #wait random short\n",
    "    time.sleep(random.uniform(0.2, 0.8))\n",
    "    #left click\n",
    "    mouse.click(Button.left, 1)\n",
    "    #wait random short\n",
    "    time.sleep(random.uniform(0.2, 0.8))\n",
    "    #move mouse to item location + random\n",
    "    mouse.position = (pos_item_x + random.uniform(-1.1, 1.1), pos_item_y + random.uniform(-1.1, 1.1))\n",
    "    #short wait and click\n",
    "    time.sleep(random.uniform(0.2, 0.8))\n",
    "    mouse.click(Button.left, 1)\n",
    "    #wait random medium\n",
    "    time.sleep(random.uniform(3.1, 3.9))\n",
    "    #end loop\n",
    "    i = i + 1\n"
   ]
  },
  {
   "cell_type": "code",
   "execution_count": null,
   "metadata": {},
   "outputs": [],
   "source": []
  }
 ],
 "metadata": {
  "kernelspec": {
   "display_name": "Python 3",
   "language": "python",
   "name": "python3"
  },
  "language_info": {
   "codemirror_mode": {
    "name": "ipython",
    "version": 3
   },
   "file_extension": ".py",
   "mimetype": "text/x-python",
   "name": "python",
   "nbconvert_exporter": "python",
   "pygments_lexer": "ipython3",
   "version": "3.7.7"
  }
 },
 "nbformat": 4,
 "nbformat_minor": 4
}
